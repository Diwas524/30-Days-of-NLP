{
 "cells": [
  {
   "cell_type": "markdown",
   "metadata": {},
   "source": [
    "# Twitter Sentiment Analysis 01"
   ]
  },
  {
   "cell_type": "markdown",
   "metadata": {},
   "source": [
    "## we are collecting tweets using tweepy"
   ]
  },
  {
   "cell_type": "code",
   "execution_count": 2,
   "metadata": {},
   "outputs": [],
   "source": [
    "## import tweepy, textblob, vader\n",
    "import tweepy\n",
    "from textblob import TextBlob\n",
    "from vaderSentiment.vaderSentiment import SentimentIntensityAnalyzer\n",
    "analyser = SentimentIntensityAnalyzer()"
   ]
  },
  {
   "cell_type": "markdown",
   "metadata": {},
   "source": [
    "##  Create twitter developer account & access those keys"
   ]
  },
  {
   "cell_type": "code",
   "execution_count": 3,
   "metadata": {},
   "outputs": [],
   "source": [
    "consumer_key = '#####################'\n",
    "consumer_key_secret = '##########################'\n",
    "access_token = '########################################'\n",
    "access_token_secret = '###################################'"
   ]
  },
  {
   "cell_type": "markdown",
   "metadata": {},
   "source": [
    "## Authenticate  "
   ]
  },
  {
   "cell_type": "code",
   "execution_count": 4,
   "metadata": {},
   "outputs": [],
   "source": [
    "auth = tweepy.OAuthHandler(consumer_key, consumer_key_secret)\n",
    "auth.set_access_token(access_token, access_token_secret)\n",
    "api = tweepy.API(auth)"
   ]
  },
  {
   "cell_type": "markdown",
   "metadata": {},
   "source": [
    "## Enter no of tweets to search & Search term"
   ]
  },
  {
   "cell_type": "code",
   "execution_count": 5,
   "metadata": {},
   "outputs": [
    {
     "name": "stdout",
     "output_type": "stream",
     "text": [
      "Enter Keyword/Tag to search about: dr kc\n",
      "Enter how many tweets to search: 20\n"
     ]
    }
   ],
   "source": [
    "searchTerm = input(\"Enter Keyword/Tag to search about: \")\n",
    "NoOfTerms = int(input(\"Enter how many tweets to search: \"))\n",
    "public_tweets = tweepy.Cursor(api.search, q=searchTerm).items(NoOfTerms)"
   ]
  },
  {
   "cell_type": "markdown",
   "metadata": {},
   "source": [
    "## Define Function "
   ]
  },
  {
   "cell_type": "code",
   "execution_count": 6,
   "metadata": {},
   "outputs": [],
   "source": [
    "def sentiment_analyzer_scores(sentence):\n",
    "    score = analyser.polarity_scores(sentence)\n",
    "    print(\"{:-<40} {}\".format(sentence, str(score)))\n",
    "    print(\"----------------------------------------------\")\n",
    "    "
   ]
  },
  {
   "cell_type": "markdown",
   "metadata": {},
   "source": [
    "## Collect Tweets & Analyse "
   ]
  },
  {
   "cell_type": "code",
   "execution_count": 7,
   "metadata": {},
   "outputs": [
    {
     "name": "stdout",
     "output_type": "stream",
     "text": [
      "Police arrest dozens of doctors for staging protest in support of Dr. KC- Review Nepal News https://t.co/f3VrCad9UB\n",
      "Police arrest dozens of doctors for staging protest in support of Dr. KC- Review Nepal News https://t.co/f3VrCad9UB {'neg': 0.209, 'neu': 0.664, 'pos': 0.128, 'compound': -0.1779}\n",
      "----------------------------------------------\n",
      "RT @CSIROnews: #4oclockfact: Crucifix frogs bury themselves underground in a mucus cocoon, waiting for rain (sometimes for years). When it…\n",
      "RT @CSIROnews: #4oclockfact: Crucifix frogs bury themselves underground in a mucus cocoon, waiting for rain (sometimes for years). When it… {'neg': 0.0, 'neu': 1.0, 'pos': 0.0, 'compound': 0.0}\n",
      "----------------------------------------------\n",
      "RT @Neupane__hari: Medical Entrance Exam मा घोटला गरेको र शक्ति र धनको प्रभाबमा सम्बन्ध बाडेको आरोपमा Dr GKC ले अहिलो अनसन बस्दा उनी पनि Dr…\n",
      "RT @Neupane__hari: Medical Entrance Exam मा घोटला गरेको र शक्ति र धनको प्रभाबमा सम्बन्ध बाडेको आरोपमा Dr GKC ले अहिलो अनसन बस्दा उनी पनि Dr… {'neg': 0.0, 'neu': 1.0, 'pos': 0.0, 'compound': 0.0}\n",
      "----------------------------------------------\n",
      "डा. केसी समर्थकले सेवा ठप्प पार्दा सर्वसाधरण उपचारबाट बञ्चित\n",
      "https://t.co/Iuld6w0ChS\n",
      "#dr.Govinda kc # https://t.co/fsapoaDwhQ\n",
      "डा. केसी समर्थकले सेवा ठप्प पार्दा सर्वसाधरण उपचारबाट बञ्चित\n",
      "https://t.co/Iuld6w0ChS\n",
      "#dr.Govinda kc # https://t.co/fsapoaDwhQ {'neg': 0.0, 'neu': 1.0, 'pos': 0.0, 'compound': 0.0}\n",
      "----------------------------------------------\n",
      "Police arrest agitating doctors supporting Dr. KC&amp;#039;s demands https://t.co/vrJsd16xek via @RepublicaNepal\n",
      "Police arrest agitating doctors supporting Dr. KC&amp;#039;s demands https://t.co/vrJsd16xek via @RepublicaNepal {'neg': 0.323, 'neu': 0.497, 'pos': 0.18, 'compound': -0.3182}\n",
      "----------------------------------------------\n",
      "RT @CSIROnews: #4oclockfact: Crucifix frogs bury themselves underground in a mucus cocoon, waiting for rain (sometimes for years). When it…\n",
      "RT @CSIROnews: #4oclockfact: Crucifix frogs bury themselves underground in a mucus cocoon, waiting for rain (sometimes for years). When it… {'neg': 0.0, 'neu': 1.0, 'pos': 0.0, 'compound': 0.0}\n",
      "----------------------------------------------\n",
      "Twitere  सर मिस हरु तपाईं  को कस्ले dr kc र प्रधानमन्त्री  ओलि सङग भयेको साउन को सहमति  पद्नु भएकोे  छ please कत्तै भेटे send गर्नु\n",
      "Twitere  सर मिस हरु तपाईं  को कस्ले dr kc र प्रधानमन्त्री  ओलि सङग भयेको साउन को सहमति  पद्नु भएकोे  छ please कत्तै भेटे send गर्नु {'neg': 0.0, 'neu': 0.905, 'pos': 0.095, 'compound': 0.3182}\n",
      "----------------------------------------------\n",
      "यसकारण डा. गोबिन्द केसीलाई कानुनी कारबाही गर्नै पर्छ https://t.co/mprleOVYst\n",
      "यसकारण डा. गोबिन्द केसीलाई कानुनी कारबाही गर्नै पर्छ https://t.co/mprleOVYst {'neg': 0.0, 'neu': 1.0, 'pos': 0.0, 'compound': 0.0}\n",
      "----------------------------------------------\n",
      "RT @CSIROnews: #4oclockfact: Crucifix frogs bury themselves underground in a mucus cocoon, waiting for rain (sometimes for years). When it…\n",
      "RT @CSIROnews: #4oclockfact: Crucifix frogs bury themselves underground in a mucus cocoon, waiting for rain (sometimes for years). When it… {'neg': 0.0, 'neu': 1.0, 'pos': 0.0, 'compound': 0.0}\n",
      "----------------------------------------------\n",
      "RT @w_novels: SKY 캐슬 대본집 예약판매 1차 이벤트!\n",
      "\"완벽한 드라마! 최고의 대본! 2019년도는 뒤흔든 명작! 몰라서 물어요?\" \n",
      "\n",
      "팔로우+RT해주신 분 중 2분 추첨(2월 8일 발표)\n",
      "\n",
      "온라인 서점 판매처\n",
      "알라딘 : https:/…\n",
      "RT @w_novels: SKY 캐슬 대본집 예약판매 1차 이벤트!\n",
      "\"완벽한 드라마! 최고의 대본! 2019년도는 뒤흔든 명작! 몰라서 물어요?\" \n",
      "\n",
      "팔로우+RT해주신 분 중 2분 추첨(2월 8일 발표)\n",
      "\n",
      "온라인 서점 판매처\n",
      "알라딘 : https:/… {'neg': 0.0, 'neu': 1.0, 'pos': 0.0, 'compound': 0.0}\n",
      "----------------------------------------------\n",
      "RT @CSIROnews: #4oclockfact: Crucifix frogs bury themselves underground in a mucus cocoon, waiting for rain (sometimes for years). When it…\n",
      "RT @CSIROnews: #4oclockfact: Crucifix frogs bury themselves underground in a mucus cocoon, waiting for rain (sometimes for years). When it… {'neg': 0.0, 'neu': 1.0, 'pos': 0.0, 'compound': 0.0}\n",
      "----------------------------------------------\n",
      "RT @CSIROnews: #4oclockfact: Crucifix frogs bury themselves underground in a mucus cocoon, waiting for rain (sometimes for years). When it…\n",
      "RT @CSIROnews: #4oclockfact: Crucifix frogs bury themselves underground in a mucus cocoon, waiting for rain (sometimes for years). When it… {'neg': 0.0, 'neu': 1.0, 'pos': 0.0, 'compound': 0.0}\n",
      "----------------------------------------------\n",
      "RT @CSIROnews: #4oclockfact: Crucifix frogs bury themselves underground in a mucus cocoon, waiting for rain (sometimes for years). When it…\n",
      "RT @CSIROnews: #4oclockfact: Crucifix frogs bury themselves underground in a mucus cocoon, waiting for rain (sometimes for years). When it… {'neg': 0.0, 'neu': 1.0, 'pos': 0.0, 'compound': 0.0}\n",
      "----------------------------------------------\n",
      "RT @CSIROnews: #4oclockfact: Crucifix frogs bury themselves underground in a mucus cocoon, waiting for rain (sometimes for years). When it…\n",
      "RT @CSIROnews: #4oclockfact: Crucifix frogs bury themselves underground in a mucus cocoon, waiting for rain (sometimes for years). When it… {'neg': 0.0, 'neu': 1.0, 'pos': 0.0, 'compound': 0.0}\n",
      "----------------------------------------------\n",
      "RT @CSIROnews: #4oclockfact: Crucifix frogs bury themselves underground in a mucus cocoon, waiting for rain (sometimes for years). When it…\n",
      "RT @CSIROnews: #4oclockfact: Crucifix frogs bury themselves underground in a mucus cocoon, waiting for rain (sometimes for years). When it… {'neg': 0.0, 'neu': 1.0, 'pos': 0.0, 'compound': 0.0}\n",
      "----------------------------------------------\n",
      "RT @CSIROnews: #4oclockfact: Crucifix frogs bury themselves underground in a mucus cocoon, waiting for rain (sometimes for years). When it…\n",
      "RT @CSIROnews: #4oclockfact: Crucifix frogs bury themselves underground in a mucus cocoon, waiting for rain (sometimes for years). When it… {'neg': 0.0, 'neu': 1.0, 'pos': 0.0, 'compound': 0.0}\n",
      "----------------------------------------------\n",
      "RT @CSIROnews: #4oclockfact: Crucifix frogs bury themselves underground in a mucus cocoon, waiting for rain (sometimes for years). When it…\n",
      "RT @CSIROnews: #4oclockfact: Crucifix frogs bury themselves underground in a mucus cocoon, waiting for rain (sometimes for years). When it… {'neg': 0.0, 'neu': 1.0, 'pos': 0.0, 'compound': 0.0}\n",
      "----------------------------------------------\n",
      "RT @CSIROnews: #4oclockfact: Crucifix frogs bury themselves underground in a mucus cocoon, waiting for rain (sometimes for years). When it…\n",
      "RT @CSIROnews: #4oclockfact: Crucifix frogs bury themselves underground in a mucus cocoon, waiting for rain (sometimes for years). When it… {'neg': 0.0, 'neu': 1.0, 'pos': 0.0, 'compound': 0.0}\n",
      "----------------------------------------------\n",
      "RT @CSIROnews: #4oclockfact: Crucifix frogs bury themselves underground in a mucus cocoon, waiting for rain (sometimes for years). When it…\n",
      "RT @CSIROnews: #4oclockfact: Crucifix frogs bury themselves underground in a mucus cocoon, waiting for rain (sometimes for years). When it… {'neg': 0.0, 'neu': 1.0, 'pos': 0.0, 'compound': 0.0}\n",
      "----------------------------------------------\n",
      "RT @CSIROnews: #4oclockfact: Crucifix frogs bury themselves underground in a mucus cocoon, waiting for rain (sometimes for years). When it…\n",
      "RT @CSIROnews: #4oclockfact: Crucifix frogs bury themselves underground in a mucus cocoon, waiting for rain (sometimes for years). When it… {'neg': 0.0, 'neu': 1.0, 'pos': 0.0, 'compound': 0.0}\n",
      "----------------------------------------------\n"
     ]
    }
   ],
   "source": [
    "for tweet in public_tweets:\n",
    "    print(tweet.text)\n",
    "  \n",
    "    sentiment_analyzer_scores(tweet.text)"
   ]
  },
  {
   "cell_type": "code",
   "execution_count": 12,
   "metadata": {},
   "outputs": [
    {
     "data": {
      "text/plain": [
       "['__add__',\n",
       " '__class__',\n",
       " '__contains__',\n",
       " '__delattr__',\n",
       " '__dict__',\n",
       " '__dir__',\n",
       " '__doc__',\n",
       " '__eq__',\n",
       " '__format__',\n",
       " '__ge__',\n",
       " '__getattribute__',\n",
       " '__getitem__',\n",
       " '__gt__',\n",
       " '__hash__',\n",
       " '__init__',\n",
       " '__init_subclass__',\n",
       " '__iter__',\n",
       " '__le__',\n",
       " '__len__',\n",
       " '__lt__',\n",
       " '__module__',\n",
       " '__ne__',\n",
       " '__new__',\n",
       " '__reduce__',\n",
       " '__reduce_ex__',\n",
       " '__repr__',\n",
       " '__setattr__',\n",
       " '__sizeof__',\n",
       " '__str__',\n",
       " '__subclasshook__',\n",
       " '__weakref__',\n",
       " '_cmpkey',\n",
       " '_compare',\n",
       " '_create_sentence_objects',\n",
       " '_strkey',\n",
       " 'analyzer',\n",
       " 'classifier',\n",
       " 'classify',\n",
       " 'correct',\n",
       " 'detect_language',\n",
       " 'ends_with',\n",
       " 'endswith',\n",
       " 'find',\n",
       " 'format',\n",
       " 'index',\n",
       " 'join',\n",
       " 'json',\n",
       " 'lower',\n",
       " 'ngrams',\n",
       " 'noun_phrases',\n",
       " 'np_counts',\n",
       " 'np_extractor',\n",
       " 'parse',\n",
       " 'parser',\n",
       " 'polarity',\n",
       " 'pos_tagger',\n",
       " 'pos_tags',\n",
       " 'raw',\n",
       " 'raw_sentences',\n",
       " 'replace',\n",
       " 'rfind',\n",
       " 'rindex',\n",
       " 'sentences',\n",
       " 'sentiment',\n",
       " 'sentiment_assessments',\n",
       " 'serialized',\n",
       " 'split',\n",
       " 'starts_with',\n",
       " 'startswith',\n",
       " 'string',\n",
       " 'strip',\n",
       " 'stripped',\n",
       " 'subjectivity',\n",
       " 'tags',\n",
       " 'title',\n",
       " 'to_json',\n",
       " 'tokenize',\n",
       " 'tokenizer',\n",
       " 'tokens',\n",
       " 'translate',\n",
       " 'translator',\n",
       " 'upper',\n",
       " 'word_counts',\n",
       " 'words']"
      ]
     },
     "execution_count": 12,
     "metadata": {},
     "output_type": "execute_result"
    }
   ],
   "source": [
    "from textblob import TextBlob\n",
    "\n",
    "text = '''\n",
    "The titular threat of The Blob has always struck me as the ultimate movie\n",
    "monster: an insatiably hungry, amoeba-like mass able to penetrate\n",
    "virtually any safeguard, capable of--as a doomed doctor chillingly\n",
    "describes it--\"assimilating flesh on contact.\n",
    "Snide comparisons to gelatin be damned, it's a concept with the most\n",
    "devastating of potential consequences, not unlike the grey goo scenario\n",
    "proposed by technological theorists fearful of\n",
    "artificial intelligence run rampant.\n",
    "'''\n",
    "\n",
    "blob = TextBlob(text)\n",
    "dir(blob)"
   ]
  },
  {
   "cell_type": "code",
   "execution_count": 9,
   "metadata": {},
   "outputs": [],
   "source": [
    "for tweet in public_tweets:\n",
    "    print(tweet.text)\n",
    "    analysis = TextBlob(tweet.text)\n",
    "    dir(analysis)\n",
    "    #print(analysis.sentiment)\n",
    "    #if analysis.sentiment[0]>0:\n",
    "     #  print ('Positive')\n",
    "    #elif analysis.sentiment[0]<0:\n",
    "     #  print ('Negative')\n",
    "    #else:\n",
    "     #  print ('Neutral')\n",
    "    #print(\"------------------------------------------------------------------------\")"
   ]
  },
  {
   "cell_type": "markdown",
   "metadata": {},
   "source": [
    "## Lets Manage Vader Codes "
   ]
  },
  {
   "cell_type": "code",
   "execution_count": 6,
   "metadata": {},
   "outputs": [
    {
     "name": "stdout",
     "output_type": "stream",
     "text": [
      "\n",
      "1st statement :\n",
      "sentence was rated as  0.0 % Negative\n",
      "sentence was rated as  32.300000000000004 % Neutral\n",
      "sentence was rated as  67.7 % Positive\n",
      "Sentence Overall Rated As Positive\n",
      "\n",
      "2nd Statement :\n",
      "sentence was rated as  75.4 % Negative\n",
      "sentence was rated as  0.0 % Neutral\n",
      "sentence was rated as  24.6 % Positive\n",
      "Sentence Overall Rated As Negative\n"
     ]
    }
   ],
   "source": [
    "\n",
    "from vaderSentiment.vaderSentiment import SentimentIntensityAnalyzer \n",
    "   \n",
    "def sentiment_scores(sentence): \n",
    "    sid_obj = SentimentIntensityAnalyzer()  \n",
    "    sentiment_dict = sid_obj.polarity_scores(sentence) \n",
    "      \n",
    "    print(\"sentence was rated as \", sentiment_dict['neg']*100, \"% Negative\") \n",
    "    print(\"sentence was rated as \", sentiment_dict['neu']*100, \"% Neutral\") \n",
    "    print(\"sentence was rated as \", sentiment_dict['pos']*100, \"% Positive\") \n",
    "  \n",
    "    print(\"Sentence Overall Rated As\", end = \" \") \n",
    "  \n",
    "    # decide sentiment as positive, negative and neutral \n",
    "    if sentiment_dict['compound'] >= 0.05 : \n",
    "        print(\"Positive\") \n",
    "  \n",
    "    elif sentiment_dict['compound'] <= - 0.05 : \n",
    "        print(\"Negative\") \n",
    "  \n",
    "    else : \n",
    "        print(\"Neutral\") \n",
    "  \n",
    "\n",
    "if __name__ == \"__main__\" : \n",
    "  \n",
    "    print(\"\\n1st statement :\") \n",
    "    sentence = \"We love programming.\" \n",
    "    sentiment_scores(sentence) \n",
    "    print(\"\\n2nd Statement :\") \n",
    "    sentence = \"sad good wrong fault\"\n",
    "    sentiment_scores(sentence) "
   ]
  },
  {
   "cell_type": "code",
   "execution_count": null,
   "metadata": {},
   "outputs": [],
   "source": []
  }
 ],
 "metadata": {
  "kernelspec": {
   "display_name": "Python 3",
   "language": "python",
   "name": "python3"
  },
  "language_info": {
   "codemirror_mode": {
    "name": "ipython",
    "version": 3
   },
   "file_extension": ".py",
   "mimetype": "text/x-python",
   "name": "python",
   "nbconvert_exporter": "python",
   "pygments_lexer": "ipython3",
   "version": "3.7.1"
  }
 },
 "nbformat": 4,
 "nbformat_minor": 2
}
